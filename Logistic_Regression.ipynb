{
  "nbformat": 4,
  "nbformat_minor": 0,
  "metadata": {
    "colab": {
      "provenance": [],
      "authorship_tag": "ABX9TyN5Q7gCfaRsTXmdK832SgXO",
      "include_colab_link": true
    },
    "kernelspec": {
      "name": "python3",
      "display_name": "Python 3"
    },
    "language_info": {
      "name": "python"
    }
  },
  "cells": [
    {
      "cell_type": "markdown",
      "metadata": {
        "id": "view-in-github",
        "colab_type": "text"
      },
      "source": [
        "<a href=\"https://colab.research.google.com/github/crazy-dot/AI4ICPS_Personal_Projects/blob/main/Logistic_Regression.ipynb\" target=\"_parent\"><img src=\"https://colab.research.google.com/assets/colab-badge.svg\" alt=\"Open In Colab\"/></a>"
      ]
    },
    {
      "cell_type": "markdown",
      "source": [
        "#Logistic Regression - Practice set 1"
      ],
      "metadata": {
        "id": "EJtvV15ImLJu"
      }
    },
    {
      "cell_type": "markdown",
      "source": [
        "Logistic Regression come under **Classification** type problem. The name regression comes here because of the binary nature of the dependet variable. We will fit the model similar to linear regression. Only the predictor function will change to **sigmoid or logit function**."
      ],
      "metadata": {
        "id": "7lBpNplFm2Fr"
      }
    },
    {
      "cell_type": "markdown",
      "source": [
        "**Regression problems have continuous and usually unbounded outputs**.An example is when you’re estimating the salary as a function of experience and education level. On the other hand, **classification problems have discrete and finite outputs called classes or categories.** For example, predicting if an employee is going to be promoted"
      ],
      "metadata": {
        "id": "c4NQMx4hniXB"
      }
    },
    {
      "cell_type": "markdown",
      "source": [
        "Types of classification:\n",
        "1. Binomial-only two classes to choose between - 0 or 1,true or false,yes or no etc.\n",
        "2. Multiclass-three or more classes of output to choose from."
      ],
      "metadata": {
        "id": "t_6bV0t7nyJ8"
      }
    },
    {
      "cell_type": "markdown",
      "source": [
        "Applications:\n",
        "1. **Text classification algorithms** are used to separate legitimate and spam emails, as well as positive and negative comments. - **check out python text classification with python and keras.**\n",
        "2. **Image Recognition**- you might ask if an image is depicting a human face or not, or if it’s a mouse or an elephant, or which digit from zero to nine it represents, and so on. **check out face detection in python**"
      ],
      "metadata": {
        "id": "GL4s_pbboLqZ"
      }
    },
    {
      "cell_type": "markdown",
      "source": [
        "**Sigmoid function-**\n",
        "S shaped curve that is logrithmic in nature.0 and 1 are the two extremes. this makes it very apt for classification problems were output is represented as probabilities."
      ],
      "metadata": {
        "id": "Ax3idwfsov3T"
      }
    },
    {
      "cell_type": "markdown",
      "source": [
        "**Logistic regression is a linear classifier**, so you’ll use a linear function **𝑓(𝐱) = 𝑏₀ + 𝑏₁𝑥₁ + ⋯ + 𝑏ᵣ𝑥ᵣ, also called the logit.**\n",
        "\n",
        "**The logistic regression function 𝑝(𝐱) is the sigmoid function of 𝑓(𝐱): 𝑝(𝐱) = 1 / (1 + exp(−𝑓(𝐱)).**\n",
        "p(x) represents the predicted probability."
      ],
      "metadata": {
        "id": "2xoJ-nISpMqs"
      }
    },
    {
      "cell_type": "markdown",
      "source": [
        "**To get the best weights, you usually maximize the log-likelihood function** (LLF) for all observations 𝑖 = 1, …, 𝑛. This method is called the maximum likelihood estimation and is represented by the equation **LLF = Σᵢ(𝑦ᵢ log(𝑝(𝐱ᵢ)) + (1 − 𝑦ᵢ) log(1 − 𝑝(𝐱ᵢ))).**"
      ],
      "metadata": {
        "id": "2VRASRP2py6i"
      }
    },
    {
      "cell_type": "markdown",
      "source": [
        "**Binary classification has four possible types of results:**\n",
        "\n",
        "1. True negatives: correctly predicted negatives (zeros)\n",
        "2. True positives: correctly predicted positives (ones)\n",
        "3. False negatives: incorrectly predicted negatives (zeros)\n",
        "4. False positives: incorrectly predicted positives (ones)"
      ],
      "metadata": {
        "id": "QxrKxXvNqSMq"
      }
    },
    {
      "cell_type": "markdown",
      "source": [
        "Classifier Accuracy:\n",
        "1. Positive predictive value- True positive/total true and false positive.\n",
        "2. Negative predicted value- True negatives/total true and false negative.\n",
        "3. Sensitivity- True positive predicted/actual true postive.\n",
        "4. Specificity- False negative predicted/actual false negative."
      ],
      "metadata": {
        "id": "H7xPALGcqnhx"
      }
    },
    {
      "cell_type": "markdown",
      "source": [
        "**Regularization-**\n",
        "Overfitting occurs when a model learns training data too well.The model then learns not only the relationships among data but also the noise in the dataset.\n",
        "They provide very good results with the training data but poor performance with test data.\n",
        "\n",
        "Regularization will reduce/penalise the complexity of the model thereby reducing overfitting.\n",
        "\n",
        "Types of regularization applied-\n",
        "1. L1 Regularization- reduces LLF with scaled sum of absolute values. |𝑏₀|+|𝑏₁|+⋯+|𝑏ᵣ|.\n",
        "2. L2 Regularization- reduces LLF with squared weights-𝑏₀²+𝑏₁²+⋯+𝑏ᵣ².\n",
        "3. Elastic Regularization- combo of L1 and L2."
      ],
      "metadata": {
        "id": "BHJAbi0BdRMa"
      }
    },
    {
      "cell_type": "markdown",
      "source": [
        "#Practice problem 1"
      ],
      "metadata": {
        "id": "se4l5QNWpj7G"
      }
    },
    {
      "cell_type": "markdown",
      "source": [
        "Step 1- Importing necessary modules.\n",
        "**sklearn.linear_model** - used for regression and classification problems.\n",
        "**sklearn.metrics** - used for confusion matrix creation.\n",
        "**sklearn.StatsModel** - used for statistical analysis.\n",
        "\n",
        "**Matplotlib** - used for data visualization."
      ],
      "metadata": {
        "id": "ZNcPuR3HfLCr"
      }
    },
    {
      "cell_type": "code",
      "source": [
        "import numpy as np\n",
        "import pandas as pd\n",
        "import matplotlib.pyplot as plt\n",
        "from sklearn.linear_model import LogisticRegression\n",
        "from sklearn.metrics import classification_report,confusion_matrix"
      ],
      "metadata": {
        "id": "Y76ot0W1mQIz"
      },
      "execution_count": null,
      "outputs": []
    },
    {
      "cell_type": "markdown",
      "source": [
        "Step 2-\n",
        "Get the data and filtering"
      ],
      "metadata": {
        "id": "g2iXaK8Xf_e5"
      }
    },
    {
      "cell_type": "code",
      "source": [
        "x = np.arange(10).reshape((-1,1)) #2d array\n",
        "y = np.array([0,0,0,0,1,1,1,1,1,1]) #1d array"
      ],
      "metadata": {
        "id": "B5uxjG3OezP3"
      },
      "execution_count": null,
      "outputs": []
    },
    {
      "cell_type": "code",
      "source": [
        "x.shape,y.shape"
      ],
      "metadata": {
        "colab": {
          "base_uri": "https://localhost:8080/"
        },
        "id": "sHzB1ncMgUuP",
        "outputId": "9fafdadf-c569-47d4-ced0-36cebf776c8f"
      },
      "execution_count": null,
      "outputs": [
        {
          "output_type": "execute_result",
          "data": {
            "text/plain": [
              "((10, 1), (10,))"
            ]
          },
          "metadata": {},
          "execution_count": 4
        }
      ]
    },
    {
      "cell_type": "markdown",
      "source": [
        "Step 3- Model creation and training.\n",
        "1. line 1 creates an instance of LogisticRegression and binds its refernces to model variable.\n",
        "2. line 2 fitting the model with inputs and output.\n",
        "\n",
        "LogisticRegression has several parameters.\n",
        "1. **penalty** = string. '12' by default.\n",
        "decides whether regularization must be done or not. other options '11','elasticnet','none'.\n",
        "2. dual = boolean. fasle by default. decides whether to use primal(false) form or dual form.\n",
        "3. tol = float. 0.0001 by default. defines tolerance.\n",
        "4. **c**= +float. 1.0 by default. defines strenght of regularization.\n",
        "5. **fit_intercept**- boolean. true by defualt.\n",
        "6. intercept_scaling = float(1.0 by default) that defines the scaling of the intercept 𝑏₀.\n",
        "7. **class_weight** = dictionary, 'balanced', or None (default) =defines the weights related to each class. When None, all classes have the weight one.\n",
        "8. **random_state** = integer, an instance of numpy.RandomState, or None (default) that defines what pseudo-random number generator to use.\n",
        "9. **solver** is a string ('liblinear' by default) that decides what solver to use for fitting the model. Other options are 'newton-cg', 'lbfgs', 'sag', and 'saga'.\n",
        "10. max_iter is an integer (100 by default) that defines the maximum number of iterations by the solver during model fitting.\n",
        "11. multi_class is a string ('ovr' by default) that decides the approach to use for handling multiple classes. Other options are 'multinomial' and 'auto'.\n",
        "12. verbose is a non-negative integer (0 by default) that defines the verbosity for the 'liblinear' and 'lbfgs' solvers.\n",
        "13. warm_start is a Boolean (False by default) that decides whether to reuse the previously obtained solution.\n",
        "14. n_jobs is an integer or None (default) that defines the number of parallel processes to use. None usually means to use one core, while -1 means to use all available cores.\n",
        "15. l1_ratio is either a floating-point number between zero and one or None (default). It defines the relative importance of the L1 part in the elastic-net regularization."
      ],
      "metadata": {
        "id": "qlJ1WIj3gkdN"
      }
    },
    {
      "cell_type": "code",
      "source": [
        "model = LogisticRegression(solver='liblinear', random_state=0)\n",
        "model.fit(x,y)\n",
        "\n",
        "#random state = 0. means the training set will shuffled for each time the model is run.\n",
        "#random state defines the shuffle number. the training data wil be shuffled and are assigned a number for each shuffle."
      ],
      "metadata": {
        "colab": {
          "base_uri": "https://localhost:8080/",
          "height": 75
        },
        "id": "0rwgjuIXgXBo",
        "outputId": "a81bd59d-6e87-46c6-c6c4-6dce63d1ec24"
      },
      "execution_count": null,
      "outputs": [
        {
          "output_type": "execute_result",
          "data": {
            "text/plain": [
              "LogisticRegression(random_state=0, solver='liblinear')"
            ],
            "text/html": [
              "<style>#sk-container-id-2 {color: black;}#sk-container-id-2 pre{padding: 0;}#sk-container-id-2 div.sk-toggleable {background-color: white;}#sk-container-id-2 label.sk-toggleable__label {cursor: pointer;display: block;width: 100%;margin-bottom: 0;padding: 0.3em;box-sizing: border-box;text-align: center;}#sk-container-id-2 label.sk-toggleable__label-arrow:before {content: \"▸\";float: left;margin-right: 0.25em;color: #696969;}#sk-container-id-2 label.sk-toggleable__label-arrow:hover:before {color: black;}#sk-container-id-2 div.sk-estimator:hover label.sk-toggleable__label-arrow:before {color: black;}#sk-container-id-2 div.sk-toggleable__content {max-height: 0;max-width: 0;overflow: hidden;text-align: left;background-color: #f0f8ff;}#sk-container-id-2 div.sk-toggleable__content pre {margin: 0.2em;color: black;border-radius: 0.25em;background-color: #f0f8ff;}#sk-container-id-2 input.sk-toggleable__control:checked~div.sk-toggleable__content {max-height: 200px;max-width: 100%;overflow: auto;}#sk-container-id-2 input.sk-toggleable__control:checked~label.sk-toggleable__label-arrow:before {content: \"▾\";}#sk-container-id-2 div.sk-estimator input.sk-toggleable__control:checked~label.sk-toggleable__label {background-color: #d4ebff;}#sk-container-id-2 div.sk-label input.sk-toggleable__control:checked~label.sk-toggleable__label {background-color: #d4ebff;}#sk-container-id-2 input.sk-hidden--visually {border: 0;clip: rect(1px 1px 1px 1px);clip: rect(1px, 1px, 1px, 1px);height: 1px;margin: -1px;overflow: hidden;padding: 0;position: absolute;width: 1px;}#sk-container-id-2 div.sk-estimator {font-family: monospace;background-color: #f0f8ff;border: 1px dotted black;border-radius: 0.25em;box-sizing: border-box;margin-bottom: 0.5em;}#sk-container-id-2 div.sk-estimator:hover {background-color: #d4ebff;}#sk-container-id-2 div.sk-parallel-item::after {content: \"\";width: 100%;border-bottom: 1px solid gray;flex-grow: 1;}#sk-container-id-2 div.sk-label:hover label.sk-toggleable__label {background-color: #d4ebff;}#sk-container-id-2 div.sk-serial::before {content: \"\";position: absolute;border-left: 1px solid gray;box-sizing: border-box;top: 0;bottom: 0;left: 50%;z-index: 0;}#sk-container-id-2 div.sk-serial {display: flex;flex-direction: column;align-items: center;background-color: white;padding-right: 0.2em;padding-left: 0.2em;position: relative;}#sk-container-id-2 div.sk-item {position: relative;z-index: 1;}#sk-container-id-2 div.sk-parallel {display: flex;align-items: stretch;justify-content: center;background-color: white;position: relative;}#sk-container-id-2 div.sk-item::before, #sk-container-id-2 div.sk-parallel-item::before {content: \"\";position: absolute;border-left: 1px solid gray;box-sizing: border-box;top: 0;bottom: 0;left: 50%;z-index: -1;}#sk-container-id-2 div.sk-parallel-item {display: flex;flex-direction: column;z-index: 1;position: relative;background-color: white;}#sk-container-id-2 div.sk-parallel-item:first-child::after {align-self: flex-end;width: 50%;}#sk-container-id-2 div.sk-parallel-item:last-child::after {align-self: flex-start;width: 50%;}#sk-container-id-2 div.sk-parallel-item:only-child::after {width: 0;}#sk-container-id-2 div.sk-dashed-wrapped {border: 1px dashed gray;margin: 0 0.4em 0.5em 0.4em;box-sizing: border-box;padding-bottom: 0.4em;background-color: white;}#sk-container-id-2 div.sk-label label {font-family: monospace;font-weight: bold;display: inline-block;line-height: 1.2em;}#sk-container-id-2 div.sk-label-container {text-align: center;}#sk-container-id-2 div.sk-container {/* jupyter's `normalize.less` sets `[hidden] { display: none; }` but bootstrap.min.css set `[hidden] { display: none !important; }` so we also need the `!important` here to be able to override the default hidden behavior on the sphinx rendered scikit-learn.org. See: https://github.com/scikit-learn/scikit-learn/issues/21755 */display: inline-block !important;position: relative;}#sk-container-id-2 div.sk-text-repr-fallback {display: none;}</style><div id=\"sk-container-id-2\" class=\"sk-top-container\"><div class=\"sk-text-repr-fallback\"><pre>LogisticRegression(random_state=0, solver=&#x27;liblinear&#x27;)</pre><b>In a Jupyter environment, please rerun this cell to show the HTML representation or trust the notebook. <br />On GitHub, the HTML representation is unable to render, please try loading this page with nbviewer.org.</b></div><div class=\"sk-container\" hidden><div class=\"sk-item\"><div class=\"sk-estimator sk-toggleable\"><input class=\"sk-toggleable__control sk-hidden--visually\" id=\"sk-estimator-id-2\" type=\"checkbox\" checked><label for=\"sk-estimator-id-2\" class=\"sk-toggleable__label sk-toggleable__label-arrow\">LogisticRegression</label><div class=\"sk-toggleable__content\"><pre>LogisticRegression(random_state=0, solver=&#x27;liblinear&#x27;)</pre></div></div></div></div></div>"
            ]
          },
          "metadata": {},
          "execution_count": 6
        }
      ]
    },
    {
      "cell_type": "code",
      "source": [
        "model.fit(x,y)"
      ],
      "metadata": {
        "colab": {
          "base_uri": "https://localhost:8080/",
          "height": 75
        },
        "id": "KvUCOo3wgvLh",
        "outputId": "f8e25c8a-dbc2-409b-92d8-bdaeac6cdc49"
      },
      "execution_count": null,
      "outputs": [
        {
          "output_type": "execute_result",
          "data": {
            "text/plain": [
              "LogisticRegression(random_state=0, solver='liblinear')"
            ],
            "text/html": [
              "<style>#sk-container-id-3 {color: black;}#sk-container-id-3 pre{padding: 0;}#sk-container-id-3 div.sk-toggleable {background-color: white;}#sk-container-id-3 label.sk-toggleable__label {cursor: pointer;display: block;width: 100%;margin-bottom: 0;padding: 0.3em;box-sizing: border-box;text-align: center;}#sk-container-id-3 label.sk-toggleable__label-arrow:before {content: \"▸\";float: left;margin-right: 0.25em;color: #696969;}#sk-container-id-3 label.sk-toggleable__label-arrow:hover:before {color: black;}#sk-container-id-3 div.sk-estimator:hover label.sk-toggleable__label-arrow:before {color: black;}#sk-container-id-3 div.sk-toggleable__content {max-height: 0;max-width: 0;overflow: hidden;text-align: left;background-color: #f0f8ff;}#sk-container-id-3 div.sk-toggleable__content pre {margin: 0.2em;color: black;border-radius: 0.25em;background-color: #f0f8ff;}#sk-container-id-3 input.sk-toggleable__control:checked~div.sk-toggleable__content {max-height: 200px;max-width: 100%;overflow: auto;}#sk-container-id-3 input.sk-toggleable__control:checked~label.sk-toggleable__label-arrow:before {content: \"▾\";}#sk-container-id-3 div.sk-estimator input.sk-toggleable__control:checked~label.sk-toggleable__label {background-color: #d4ebff;}#sk-container-id-3 div.sk-label input.sk-toggleable__control:checked~label.sk-toggleable__label {background-color: #d4ebff;}#sk-container-id-3 input.sk-hidden--visually {border: 0;clip: rect(1px 1px 1px 1px);clip: rect(1px, 1px, 1px, 1px);height: 1px;margin: -1px;overflow: hidden;padding: 0;position: absolute;width: 1px;}#sk-container-id-3 div.sk-estimator {font-family: monospace;background-color: #f0f8ff;border: 1px dotted black;border-radius: 0.25em;box-sizing: border-box;margin-bottom: 0.5em;}#sk-container-id-3 div.sk-estimator:hover {background-color: #d4ebff;}#sk-container-id-3 div.sk-parallel-item::after {content: \"\";width: 100%;border-bottom: 1px solid gray;flex-grow: 1;}#sk-container-id-3 div.sk-label:hover label.sk-toggleable__label {background-color: #d4ebff;}#sk-container-id-3 div.sk-serial::before {content: \"\";position: absolute;border-left: 1px solid gray;box-sizing: border-box;top: 0;bottom: 0;left: 50%;z-index: 0;}#sk-container-id-3 div.sk-serial {display: flex;flex-direction: column;align-items: center;background-color: white;padding-right: 0.2em;padding-left: 0.2em;position: relative;}#sk-container-id-3 div.sk-item {position: relative;z-index: 1;}#sk-container-id-3 div.sk-parallel {display: flex;align-items: stretch;justify-content: center;background-color: white;position: relative;}#sk-container-id-3 div.sk-item::before, #sk-container-id-3 div.sk-parallel-item::before {content: \"\";position: absolute;border-left: 1px solid gray;box-sizing: border-box;top: 0;bottom: 0;left: 50%;z-index: -1;}#sk-container-id-3 div.sk-parallel-item {display: flex;flex-direction: column;z-index: 1;position: relative;background-color: white;}#sk-container-id-3 div.sk-parallel-item:first-child::after {align-self: flex-end;width: 50%;}#sk-container-id-3 div.sk-parallel-item:last-child::after {align-self: flex-start;width: 50%;}#sk-container-id-3 div.sk-parallel-item:only-child::after {width: 0;}#sk-container-id-3 div.sk-dashed-wrapped {border: 1px dashed gray;margin: 0 0.4em 0.5em 0.4em;box-sizing: border-box;padding-bottom: 0.4em;background-color: white;}#sk-container-id-3 div.sk-label label {font-family: monospace;font-weight: bold;display: inline-block;line-height: 1.2em;}#sk-container-id-3 div.sk-label-container {text-align: center;}#sk-container-id-3 div.sk-container {/* jupyter's `normalize.less` sets `[hidden] { display: none; }` but bootstrap.min.css set `[hidden] { display: none !important; }` so we also need the `!important` here to be able to override the default hidden behavior on the sphinx rendered scikit-learn.org. See: https://github.com/scikit-learn/scikit-learn/issues/21755 */display: inline-block !important;position: relative;}#sk-container-id-3 div.sk-text-repr-fallback {display: none;}</style><div id=\"sk-container-id-3\" class=\"sk-top-container\"><div class=\"sk-text-repr-fallback\"><pre>LogisticRegression(random_state=0, solver=&#x27;liblinear&#x27;)</pre><b>In a Jupyter environment, please rerun this cell to show the HTML representation or trust the notebook. <br />On GitHub, the HTML representation is unable to render, please try loading this page with nbviewer.org.</b></div><div class=\"sk-container\" hidden><div class=\"sk-item\"><div class=\"sk-estimator sk-toggleable\"><input class=\"sk-toggleable__control sk-hidden--visually\" id=\"sk-estimator-id-3\" type=\"checkbox\" checked><label for=\"sk-estimator-id-3\" class=\"sk-toggleable__label sk-toggleable__label-arrow\">LogisticRegression</label><div class=\"sk-toggleable__content\"><pre>LogisticRegression(random_state=0, solver=&#x27;liblinear&#x27;)</pre></div></div></div></div></div>"
            ]
          },
          "metadata": {},
          "execution_count": 7
        }
      ]
    },
    {
      "cell_type": "code",
      "source": [
        "model.classes_ #possible outputs present in dataset. 2 for binomial and 3 or more for multiclass."
      ],
      "metadata": {
        "colab": {
          "base_uri": "https://localhost:8080/"
        },
        "id": "qbU7htlijvx3",
        "outputId": "d7d2aeb0-40a4-45e8-d137-8f193f349d43"
      },
      "execution_count": null,
      "outputs": [
        {
          "output_type": "execute_result",
          "data": {
            "text/plain": [
              "array([0, 1])"
            ]
          },
          "metadata": {},
          "execution_count": 9
        }
      ]
    },
    {
      "cell_type": "code",
      "source": [
        "print(model.intercept_ )#y intercept.\n",
        "print(model.coef_) #slope"
      ],
      "metadata": {
        "colab": {
          "base_uri": "https://localhost:8080/"
        },
        "id": "xHpSqdnJj3nU",
        "outputId": "4a1b61e8-65bb-4e21-9a42-909ec18a7566"
      },
      "execution_count": null,
      "outputs": [
        {
          "output_type": "stream",
          "name": "stdout",
          "text": [
            "[-1.04608067]\n",
            "[[0.51491375]]\n"
          ]
        }
      ]
    },
    {
      "cell_type": "code",
      "source": [
        "model.predict_proba(x)\n",
        "# each ele represent one observation. 1st column = probability of 0,2nd column - probability of 1."
      ],
      "metadata": {
        "colab": {
          "base_uri": "https://localhost:8080/"
        },
        "id": "dKf66IrhkHHA",
        "outputId": "7427a7a5-7d08-4ffc-a903-60e6b4e4df18"
      },
      "execution_count": null,
      "outputs": [
        {
          "output_type": "execute_result",
          "data": {
            "text/plain": [
              "array([[0.74002157, 0.25997843],\n",
              "       [0.62975524, 0.37024476],\n",
              "       [0.5040632 , 0.4959368 ],\n",
              "       [0.37785549, 0.62214451],\n",
              "       [0.26628093, 0.73371907],\n",
              "       [0.17821501, 0.82178499],\n",
              "       [0.11472079, 0.88527921],\n",
              "       [0.07186982, 0.92813018],\n",
              "       [0.04422513, 0.95577487],\n",
              "       [0.02690569, 0.97309431]])"
            ]
          },
          "metadata": {},
          "execution_count": 13
        }
      ]
    },
    {
      "cell_type": "markdown",
      "source": [
        "In the matrix above, each row corresponds to a single observation. The first column is the probability of the predicted output being zero, that is 1 - 𝑝(𝑥). The second column is the probability that the output is one, or 𝑝(𝑥)."
      ],
      "metadata": {
        "id": "GJaluk5xkjE3"
      }
    },
    {
      "cell_type": "code",
      "source": [
        "#actual prediction\n",
        "model.predict(x)\n",
        "#one incorrect prediction. observation - 4.\n",
        "#probabilty matrix from above- [0.37785549, 0.62214451]."
      ],
      "metadata": {
        "colab": {
          "base_uri": "https://localhost:8080/"
        },
        "id": "d4-byymZkdLU",
        "outputId": "1c595cc0-86de-4767-b9ea-bb5cd2d8d8e1"
      },
      "execution_count": null,
      "outputs": [
        {
          "output_type": "execute_result",
          "data": {
            "text/plain": [
              "array([0, 0, 0, 1, 1, 1, 1, 1, 1, 1])"
            ]
          },
          "metadata": {},
          "execution_count": 14
        }
      ]
    },
    {
      "cell_type": "markdown",
      "source": [
        ".score() takes the input and output as arguments and returns the ratio of the number of correct predictions to the number of observations."
      ],
      "metadata": {
        "id": "sF2qtIIalZPO"
      }
    },
    {
      "cell_type": "code",
      "source": [
        "model.score(x,y)"
      ],
      "metadata": {
        "colab": {
          "base_uri": "https://localhost:8080/"
        },
        "id": "Z6_h79n1k64R",
        "outputId": "4fe5bc54-2c43-4650-e796-95677f99c88c"
      },
      "execution_count": null,
      "outputs": [
        {
          "output_type": "execute_result",
          "data": {
            "text/plain": [
              "0.9"
            ]
          },
          "metadata": {},
          "execution_count": 16
        }
      ]
    },
    {
      "cell_type": "markdown",
      "source": [
        "Accuracy of the model with a confusion matrix. In the case of binary classification, the confusion matrix shows the numbers of the following:\n",
        "\n",
        "1. True negatives in the upper-left position\n",
        "2. False negatives in the lower-left position\n",
        "3. False positives in the upper-right position\n",
        "4. True positives in the lower-right position"
      ],
      "metadata": {
        "id": "hYJpPOMRlmLo"
      }
    },
    {
      "cell_type": "code",
      "source": [
        "confusion_matrix(y,model.predict(x))"
      ],
      "metadata": {
        "colab": {
          "base_uri": "https://localhost:8080/"
        },
        "id": "lXA7XpohlbfC",
        "outputId": "cdced7d0-2b85-403f-c432-7f50c84e2c9c"
      },
      "execution_count": null,
      "outputs": [
        {
          "output_type": "execute_result",
          "data": {
            "text/plain": [
              "array([[3, 1],\n",
              "       [0, 6]])"
            ]
          },
          "metadata": {},
          "execution_count": 17
        }
      ]
    },
    {
      "cell_type": "markdown",
      "source": [
        "1. true negative - 3 (0 predicted as 0)\n",
        "2. false negative - 1 (0 predicted as 1)\n",
        "3. false positive - 0 (1 predicted as 0)\n",
        "4. true positive - 6 (1 predicted as 1)"
      ],
      "metadata": {
        "id": "cYCM_0cDl8Tg"
      }
    },
    {
      "cell_type": "code",
      "source": [
        "cm = confusion_matrix(y,model.predict(x))\n",
        "fig,ax = plt.subplots(figsize=(8,8))\n",
        "ax.imshow(cm)\n",
        "ax.grid(False) #true will create a grid line effect.\n",
        "ax.xaxis.set(ticks=(0,1),ticklabels=('Predicted 0s','Predicted 1s'))\n",
        "ax.yaxis.set(ticks=(0,1),ticklabels=('Actual 0s','Actual 1s'))\n",
        "ax.set_ylim(1.5,-0.5)\n",
        "for i in range(2):\n",
        "  for j in range(2):\n",
        "    ax.text(j,i,cm[i,j],ha='center',va='center',color='white')\n",
        "#xaxis= left to right\n",
        "#yaxis= top to bottom"
      ],
      "metadata": {
        "colab": {
          "base_uri": "https://localhost:8080/",
          "height": 676
        },
        "id": "7irnubSFl2y8",
        "outputId": "16d9a528-e1ec-4132-9a0d-afa51a322813"
      },
      "execution_count": null,
      "outputs": [
        {
          "output_type": "display_data",
          "data": {
            "text/plain": [
              "<Figure size 800x800 with 1 Axes>"
            ],
            "image/png": "[encoded data removed]"
          },
          "metadata": {}
        }
      ]
    },
    {
      "cell_type": "code",
      "source": [
        "print(classification_report(y,model.predict(x)))"
      ],
      "metadata": {
        "colab": {
          "base_uri": "https://localhost:8080/"
        },
        "id": "ayNTH0VXmnbB",
        "outputId": "6974ea25-3b32-40f9-a50c-6e1c49bb5909"
      },
      "execution_count": null,
      "outputs": [
        {
          "output_type": "stream",
          "name": "stdout",
          "text": [
            "              precision    recall  f1-score   support\n",
            "\n",
            "           0       1.00      0.75      0.86         4\n",
            "           1       0.86      1.00      0.92         6\n",
            "\n",
            "    accuracy                           0.90        10\n",
            "   macro avg       0.93      0.88      0.89        10\n",
            "weighted avg       0.91      0.90      0.90        10\n",
            "\n"
          ]
        }
      ]
    },
    {
      "cell_type": "code",
      "source": [],
      "metadata": {
        "id": "FaStjuMjo2DM"
      },
      "execution_count": null,
      "outputs": []
    },
    {
      "cell_type": "code",
      "source": [],
      "metadata": {
        "id": "2dqwTUA-pGMy"
      },
      "execution_count": null,
      "outputs": []
    },
    {
      "cell_type": "markdown",
      "source": [
        "#Handwriting Recognition\n",
        "Logistic Regression in Python - Real world classification problem."
      ],
      "metadata": {
        "id": "wKbwSdLSpxkO"
      }
    },
    {
      "cell_type": "markdown",
      "source": [
        "This example is about image recognition. we will work on the recognition of handwritten digits. We will use a dataset with 1797 observations, each of which is an image of one handwritten digit. Each image has 64 px, with a width of 8 px and a height of 8 px."
      ],
      "metadata": {
        "id": "EgnaMz_XqYCj"
      }
    },
    {
      "cell_type": "markdown",
      "source": [
        "**input(x) is a vector with 64 values/columns**. Each image is represented by its pixel value. Given each image is 64 px hence we will have 64 digits ranging from 0 to 16 depending on the shade of gray color.\n",
        "**The output (𝑦)** for each observation is an integer between 0 and 9, consistent with the digit on the image"
      ],
      "metadata": {
        "id": "qL45cBvUqu5n"
      }
    },
    {
      "cell_type": "markdown",
      "source": [
        "Step 1 - Importing Packages"
      ],
      "metadata": {
        "id": "yK-ylX1iraS1"
      }
    },
    {
      "cell_type": "code",
      "source": [
        "import matplotlib.pyplot as plt\n",
        "import numpy as np\n",
        "import pandas as pd\n",
        "from sklearn.datasets import load_digits\n",
        "from sklearn.linear_model import LogisticRegression\n",
        "from sklearn.metrics import classification_report,confusion_matrix"
      ],
      "metadata": {
        "id": "njJhC9o6p5_g"
      },
      "execution_count": null,
      "outputs": []
    },
    {
      "cell_type": "markdown",
      "source": [
        "Step 2 a) Get the data from sklearn standard library. we have the image data already present in standard lib. just load it into x and y values."
      ],
      "metadata": {
        "id": "6VHPGY6pr80m"
      }
    },
    {
      "cell_type": "code",
      "source": [
        "x,y = load_digits(return_X_y=True)\n",
        "x,x.shape,y,y.shape"
      ],
      "metadata": {
        "colab": {
          "base_uri": "https://localhost:8080/"
        },
        "id": "kOf0gPbArtDG",
        "outputId": "5cbf8d1d-ef3f-4576-fb6d-348ea5ad601a"
      },
      "execution_count": null,
      "outputs": [
        {
          "output_type": "execute_result",
          "data": {
            "text/plain": [
              "(array([[ 0.,  0.,  5., ...,  0.,  0.,  0.],\n",
              "        [ 0.,  0.,  0., ..., 10.,  0.,  0.],\n",
              "        [ 0.,  0.,  0., ..., 16.,  9.,  0.],\n",
              "        ...,\n",
              "        [ 0.,  0.,  1., ...,  6.,  0.,  0.],\n",
              "        [ 0.,  0.,  2., ..., 12.,  0.,  0.],\n",
              "        [ 0.,  0., 10., ..., 12.,  1.,  0.]]),\n",
              " (1797, 64),\n",
              " array([0, 1, 2, ..., 8, 9, 8]),\n",
              " (1797,))"
            ]
          },
          "metadata": {},
          "execution_count": 17
        }
      ]
    },
    {
      "cell_type": "markdown",
      "source": [
        "X is a 2D array with 1797 rows and 64 columns representing the pixels.\n",
        "y is 1D array with 1797 rows having values between [0,9)"
      ],
      "metadata": {
        "id": "U8YX27dus6DU"
      }
    },
    {
      "cell_type": "markdown",
      "source": [
        "**Step 2b)** - Splitting the data into training and test set.\n",
        "Split is performed randomly - actually done with the help of **sklearn.model_selection.train_test_split().**\n",
        "Using the training set to fit the model. Evaluate its performance using test set.\n",
        "\n",
        "train_test_split will take input,output from the dataset and split it into training and test part. test_size=0.2 represent 20%of the data should be split into test set.\n",
        "random_state=0 represent this split should be done in random order 0."
      ],
      "metadata": {
        "id": "MTInz2PvtJ6E"
      }
    },
    {
      "cell_type": "code",
      "source": [
        "from sklearn.model_selection import train_test_split\n",
        "X_train,x_test,y_train,y_test = train_test_split(x,y, test_size = 0.2, random_state=0)"
      ],
      "metadata": {
        "id": "weIQTNYesPuU"
      },
      "execution_count": null,
      "outputs": []
    },
    {
      "cell_type": "markdown",
      "source": [
        "Step 2c) Scaling the model.\n",
        "\n",
        "**Standardization**- converting dataset to zero mean and unit variance form. It is done to get same scale for all the columns. it is done by\n",
        "1. calulate mean and sd for each column.\n",
        "2. subtract mean from each element.\n",
        "3. divde the obtained result by sd.\n",
        "\n",
        "**normalization=(X_column_mean-X_column_value)/SD_column** for each observation in all column.\n"
      ],
      "metadata": {
        "id": "sikfNuc512tN"
      }
    },
    {
      "cell_type": "markdown",
      "source": [
        "```\n",
        "# This is formatted as code\n",
        "#standardization process\n",
        "mean = X_train.mean(axis=0) #axis=0 column list element of type float64\n",
        "std = X_train.std(axis=0) #list element of type float64\n",
        "\n",
        "diff = X_train - mean #2D array since X_train is a 2D dimensional one and numpy arrays perform element wise operation\n",
        "#similar to matrix A - constant. all values in the matrix will be subtratced.\n",
        "\n",
        "#standadizing the values manually.\n",
        "for value in std:\n",
        "  if value == 0:\n",
        "    std = std + 1\n",
        "    X_train_1 = diff/std\n",
        "  else:\n",
        "    X_train_1 = diff/std\n",
        "\n",
        "```\n",
        "\n"
      ],
      "metadata": {
        "id": "7f2J8bJE7GzU"
      }
    },
    {
      "cell_type": "markdown",
      "source": [
        "Standardization using sklearn.preprocessing module.\n",
        "StandardScaler() - class has a fit_transform function which will perform normalisation process."
      ],
      "metadata": {
        "id": "pS3wcY-O7T_Q"
      }
    },
    {
      "cell_type": "code",
      "source": [
        "from sklearn.preprocessing import StandardScaler\n",
        "scaler = StandardScaler()\n",
        "X_train = scaler.fit_transform(X_train)\n",
        "X_train"
      ],
      "metadata": {
        "colab": {
          "base_uri": "https://localhost:8080/"
        },
        "id": "EGH-a8Op3c-H",
        "outputId": "10829d6f-2a18-43fa-8e9b-2d98e0d87a74"
      },
      "execution_count": null,
      "outputs": [
        {
          "output_type": "execute_result",
          "data": {
            "text/plain": [
              "array([[ 0.        , -0.33790435, -1.09141592, ...,  1.58325794,\n",
              "         3.53125595,  3.30213343],\n",
              "       [ 0.        ,  2.90642897,  1.41696421, ...,  1.58325794,\n",
              "         0.00595786, -0.18695903],\n",
              "       [ 0.        ,  0.74354009,  0.99890086, ..., -1.14493411,\n",
              "        -0.49765616, -0.18695903],\n",
              "       ...,\n",
              "       [ 0.        , -0.33790435, -0.04625753, ..., -1.14493411,\n",
              "        -0.49765616, -0.18695903],\n",
              "       [ 0.        , -0.33790435, -0.25528921, ..., -1.14493411,\n",
              "        -0.49765616, -0.18695903],\n",
              "       [ 0.        , -0.33790435,  0.16277415, ...,  0.73069792,\n",
              "        -0.49765616, -0.18695903]])"
            ]
          },
          "metadata": {},
          "execution_count": 28
        }
      ]
    },
    {
      "cell_type": "markdown",
      "source": [
        "Step 3) fitting the model with training set.\n",
        "1. solver=liblinear and c = 0.05. **multi_class = 'ovr' - indicates to make binary fit for each class.**\n"
      ],
      "metadata": {
        "id": "7ZHK1oZc7n0h"
      }
    },
    {
      "cell_type": "code",
      "source": [
        "model = LogisticRegression(solver='liblinear',C=0.05,\n",
        "                           multi_class='ovr',random_state=0)\n",
        "model.fit(X_train,y_train)"
      ],
      "metadata": {
        "colab": {
          "base_uri": "https://localhost:8080/",
          "height": 92
        },
        "id": "ok-k8MET4qJn",
        "outputId": "4cc990df-f576-455f-bf3f-5bbc335ad4a3"
      },
      "execution_count": null,
      "outputs": [
        {
          "output_type": "execute_result",
          "data": {
            "text/plain": [
              "LogisticRegression(C=0.05, multi_class='ovr', random_state=0,\n",
              "                   solver='liblinear')"
            ],
            "text/html": [
              "<style>#sk-container-id-1 {color: black;}#sk-container-id-1 pre{padding: 0;}#sk-container-id-1 div.sk-toggleable {background-color: white;}#sk-container-id-1 label.sk-toggleable__label {cursor: pointer;display: block;width: 100%;margin-bottom: 0;padding: 0.3em;box-sizing: border-box;text-align: center;}#sk-container-id-1 label.sk-toggleable__label-arrow:before {content: \"▸\";float: left;margin-right: 0.25em;color: #696969;}#sk-container-id-1 label.sk-toggleable__label-arrow:hover:before {color: black;}#sk-container-id-1 div.sk-estimator:hover label.sk-toggleable__label-arrow:before {color: black;}#sk-container-id-1 div.sk-toggleable__content {max-height: 0;max-width: 0;overflow: hidden;text-align: left;background-color: #f0f8ff;}#sk-container-id-1 div.sk-toggleable__content pre {margin: 0.2em;color: black;border-radius: 0.25em;background-color: #f0f8ff;}#sk-container-id-1 input.sk-toggleable__control:checked~div.sk-toggleable__content {max-height: 200px;max-width: 100%;overflow: auto;}#sk-container-id-1 input.sk-toggleable__control:checked~label.sk-toggleable__label-arrow:before {content: \"▾\";}#sk-container-id-1 div.sk-estimator input.sk-toggleable__control:checked~label.sk-toggleable__label {background-color: #d4ebff;}#sk-container-id-1 div.sk-label input.sk-toggleable__control:checked~label.sk-toggleable__label {background-color: #d4ebff;}#sk-container-id-1 input.sk-hidden--visually {border: 0;clip: rect(1px 1px 1px 1px);clip: rect(1px, 1px, 1px, 1px);height: 1px;margin: -1px;overflow: hidden;padding: 0;position: absolute;width: 1px;}#sk-container-id-1 div.sk-estimator {font-family: monospace;background-color: #f0f8ff;border: 1px dotted black;border-radius: 0.25em;box-sizing: border-box;margin-bottom: 0.5em;}#sk-container-id-1 div.sk-estimator:hover {background-color: #d4ebff;}#sk-container-id-1 div.sk-parallel-item::after {content: \"\";width: 100%;border-bottom: 1px solid gray;flex-grow: 1;}#sk-container-id-1 div.sk-label:hover label.sk-toggleable__label {background-color: #d4ebff;}#sk-container-id-1 div.sk-serial::before {content: \"\";position: absolute;border-left: 1px solid gray;box-sizing: border-box;top: 0;bottom: 0;left: 50%;z-index: 0;}#sk-container-id-1 div.sk-serial {display: flex;flex-direction: column;align-items: center;background-color: white;padding-right: 0.2em;padding-left: 0.2em;position: relative;}#sk-container-id-1 div.sk-item {position: relative;z-index: 1;}#sk-container-id-1 div.sk-parallel {display: flex;align-items: stretch;justify-content: center;background-color: white;position: relative;}#sk-container-id-1 div.sk-item::before, #sk-container-id-1 div.sk-parallel-item::before {content: \"\";position: absolute;border-left: 1px solid gray;box-sizing: border-box;top: 0;bottom: 0;left: 50%;z-index: -1;}#sk-container-id-1 div.sk-parallel-item {display: flex;flex-direction: column;z-index: 1;position: relative;background-color: white;}#sk-container-id-1 div.sk-parallel-item:first-child::after {align-self: flex-end;width: 50%;}#sk-container-id-1 div.sk-parallel-item:last-child::after {align-self: flex-start;width: 50%;}#sk-container-id-1 div.sk-parallel-item:only-child::after {width: 0;}#sk-container-id-1 div.sk-dashed-wrapped {border: 1px dashed gray;margin: 0 0.4em 0.5em 0.4em;box-sizing: border-box;padding-bottom: 0.4em;background-color: white;}#sk-container-id-1 div.sk-label label {font-family: monospace;font-weight: bold;display: inline-block;line-height: 1.2em;}#sk-container-id-1 div.sk-label-container {text-align: center;}#sk-container-id-1 div.sk-container {/* jupyter's `normalize.less` sets `[hidden] { display: none; }` but bootstrap.min.css set `[hidden] { display: none !important; }` so we also need the `!important` here to be able to override the default hidden behavior on the sphinx rendered scikit-learn.org. See: https://github.com/scikit-learn/scikit-learn/issues/21755 */display: inline-block !important;position: relative;}#sk-container-id-1 div.sk-text-repr-fallback {display: none;}</style><div id=\"sk-container-id-1\" class=\"sk-top-container\"><div class=\"sk-text-repr-fallback\"><pre>LogisticRegression(C=0.05, multi_class=&#x27;ovr&#x27;, random_state=0,\n",
              "                   solver=&#x27;liblinear&#x27;)</pre><b>In a Jupyter environment, please rerun this cell to show the HTML representation or trust the notebook. <br />On GitHub, the HTML representation is unable to render, please try loading this page with nbviewer.org.</b></div><div class=\"sk-container\" hidden><div class=\"sk-item\"><div class=\"sk-estimator sk-toggleable\"><input class=\"sk-toggleable__control sk-hidden--visually\" id=\"sk-estimator-id-1\" type=\"checkbox\" checked><label for=\"sk-estimator-id-1\" class=\"sk-toggleable__label sk-toggleable__label-arrow\">LogisticRegression</label><div class=\"sk-toggleable__content\"><pre>LogisticRegression(C=0.05, multi_class=&#x27;ovr&#x27;, random_state=0,\n",
              "                   solver=&#x27;liblinear&#x27;)</pre></div></div></div></div></div>"
            ]
          },
          "metadata": {},
          "execution_count": 31
        }
      ]
    },
    {
      "cell_type": "markdown",
      "source": [
        "Step 4) Evaluating the model\n",
        "\n",
        "Note 1:\n",
        "fit_transform() method combines the functionality of the fit() and transform() methods into one step. The fit() method fits data into a model, while the transform() method transforms data into a form that's better suited for the model. Fit_transform() can be more efficient for modeling and transforming training data at the same time.\n",
        "\n",
        "Note 2:\n",
        "**fit()**- goes through the trainnig data and determines the mean and sd and saves them internally.\n",
        "**transform()**- fits the training data into the model by performing normalization(fit_transform() - uses the mean and sd found by the fit() and performs transform())\n"
      ],
      "metadata": {
        "id": "dekenfpc9k6D"
      }
    },
    {
      "cell_type": "code",
      "source": [
        "#we are testing the model with test dataset.\n",
        "#since model is fitted with scaled data while training.we need to scale the test data set as well\n",
        "#test data is standardised with the training data mean and sd.this is done to avoid baising the model with test data.\n",
        "x_test = scaler.transform(x_test)"
      ],
      "metadata": {
        "id": "TIvnKdOL8YKl"
      },
      "execution_count": null,
      "outputs": []
    },
    {
      "cell_type": "markdown",
      "source": [
        "When training a machine learning model, it's important to evaluate its performance on data it hasn't seen before.\n",
        "\n",
        "If you were to scale the test data using its own mean and standard deviation, you would be giving the model information about the test set before it tries to make predictions on it. This is like giving the model a sneak peek at the answers, which can lead to overly optimistic performance estimates.\n",
        "\n",
        "Instead, by scaling the test data using the mean and standard deviation calculated from the training data, you ensure that the model is only using information it learned during training to make predictions on the test set. This helps to:\n",
        "1. Avoid Bias: Prevents the model from being unfairly influenced by the characteristics of the test data.\n",
        "2. Generalization: Encourages the model to learn patterns that apply to unseen data, not just memorize the training set.\n",
        "This ultimately leads to a more realistic assessment of how well your model will perform in real-world scenarios."
      ],
      "metadata": {
        "id": "7rhWzynmACuV"
      }
    },
    {
      "cell_type": "code",
      "source": [
        "y_pred = model.predict(x_test)"
      ],
      "metadata": {
        "id": "qaTXac9-AD64"
      },
      "execution_count": null,
      "outputs": []
    },
    {
      "cell_type": "code",
      "source": [
        "model.score(X_train,y_train)\n",
        "print(f\"Accuracy of the model with training data is {round(model.score(X_train,y_train),4)*100}%\")\n",
        "#classification accuracy"
      ],
      "metadata": {
        "colab": {
          "base_uri": "https://localhost:8080/"
        },
        "id": "V_X2rFIABKYH",
        "outputId": "a90dfb71-2727-45be-8243-f23acfd46608"
      },
      "execution_count": null,
      "outputs": [
        {
          "output_type": "stream",
          "name": "stdout",
          "text": [
            "Accuracy of the model with training data is 96.45%\n"
          ]
        }
      ]
    },
    {
      "cell_type": "code",
      "source": [
        "model.score(x_test,y_test)\n",
        "print(f\"Accuracy of the model with test data is {round(model.score(x_test,y_test),4)*100}%\")"
      ],
      "metadata": {
        "colab": {
          "base_uri": "https://localhost:8080/"
        },
        "id": "hng69PPoBPqK",
        "outputId": "457b5d75-3ee3-4017-c2cd-53822975158c"
      },
      "execution_count": null,
      "outputs": [
        {
          "output_type": "stream",
          "name": "stdout",
          "text": [
            "Accuracy of the model with test data is 88.06%\n"
          ]
        }
      ]
    },
    {
      "cell_type": "code",
      "source": [
        "confusion_matrix(y_test,y_pred)"
      ],
      "metadata": {
        "colab": {
          "base_uri": "https://localhost:8080/"
        },
        "id": "63VkuLmdBV-o",
        "outputId": "4eb81fc3-4b18-4075-ef71-052cd329d478"
      },
      "execution_count": null,
      "outputs": [
        {
          "output_type": "execute_result",
          "data": {
            "text/plain": [
              "array([[27,  0,  0,  0,  0,  0,  0,  0,  0,  0],\n",
              "       [ 0, 33,  0,  0,  0,  0,  0,  0,  2,  0],\n",
              "       [ 1,  3, 28,  0,  0,  0,  0,  0,  4,  0],\n",
              "       [ 0,  0,  0, 26,  0,  0,  0,  0,  3,  0],\n",
              "       [ 0,  3,  0,  0, 23,  0,  0,  1,  3,  0],\n",
              "       [ 0,  1,  0,  0,  0, 38,  0,  0,  1,  0],\n",
              "       [ 0,  1,  0,  0,  0,  0, 40,  0,  3,  0],\n",
              "       [ 0,  1,  0,  0,  0,  0,  0, 34,  4,  0],\n",
              "       [ 0,  1,  0,  0,  0,  0,  0,  0, 38,  0],\n",
              "       [ 0,  1,  0,  0,  0,  0,  0,  0, 10, 30]])"
            ]
          },
          "metadata": {},
          "execution_count": 44
        }
      ]
    },
    {
      "cell_type": "code",
      "source": [
        "cm = confusion_matrix(y_test, y_pred)\n",
        "\n",
        "fig, ax = plt.subplots(figsize=(8, 8))\n",
        "ax.imshow(cm)\n",
        "ax.grid(False)\n",
        "ax.set_xlabel('Predicted outputs', color='black')\n",
        "ax.set_ylabel('Actual outputs', color='black')\n",
        "ax.xaxis.set(ticks=range(10))\n",
        "ax.yaxis.set(ticks=range(10))\n",
        "ax.set_ylim(9.5, -0.5)\n",
        "for i in range(10):\n",
        "    for j in range(10):\n",
        "        ax.text(j, i, cm[i, j], ha='center', va='center', color='white')\n",
        "plt.show()"
      ],
      "metadata": {
        "colab": {
          "base_uri": "https://localhost:8080/",
          "height": 696
        },
        "id": "R64xl3brT2l8",
        "outputId": "57f283ef-73b4-413c-a160-4de959937876"
      },
      "execution_count": null,
      "outputs": [
        {
          "output_type": "display_data",
          "data": {
            "text/plain": [
              "<Figure size 800x800 with 1 Axes>"
            ],
            "image/png": "[encoded data removed]"
          },
          "metadata": {}
        }
      ]
    },
    {
      "cell_type": "code",
      "source": [],
      "metadata": {
        "id": "MNmiqWQFT9-p"
      },
      "execution_count": null,
      "outputs": []
    }
  ]
}